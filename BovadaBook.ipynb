{
 "cells": [
  {
   "cell_type": "markdown",
   "metadata": {},
   "source": [
    "# Import Packages, Set some Options"
   ]
  },
  {
   "cell_type": "code",
   "execution_count": 1,
   "metadata": {},
   "outputs": [],
   "source": [
    "import datetime\n",
    "from selenium import webdriver\n",
    "from selenium.webdriver.support import expected_conditions as EC\n",
    "from selenium.webdriver.common.keys import Keys\n",
    "from selenium.webdriver.chrome.options import Options\n",
    "import csv\n",
    "\n",
    "import matplotlib.pyplot as plt\n",
    "\n",
    "import numpy as np\n",
    "import pandas as pd\n",
    "\n",
    "import plotly.plotly as py\n",
    "import plotly.graph_objs as go\n",
    "from plotly.offline import iplot, init_notebook_mode\n",
    "\n",
    "options = Options()\n",
    "#This will run Selenium headless, meaning you won't see the browser window open. If you want to see the browser open, set it to False\n",
    "options.headless = True\n",
    "\n",
    "pd.set_option('display.max_rows', 1000)"
   ]
  },
  {
   "cell_type": "markdown",
   "metadata": {},
   "source": [
    "# Define a couple functions for data analysis"
   ]
  },
  {
   "cell_type": "code",
   "execution_count": 3,
   "metadata": {},
   "outputs": [],
   "source": [
    "#Returns the difference between the max and the minimum of a set of values\n",
    "def max_minus_min(x): return max(x) - min(x)\n",
    "#Returns the difference between the last and the average of a set of values\n",
    "def last_minus_avg(x): return last(x) - mean(x)"
   ]
  },
  {
   "cell_type": "markdown",
   "metadata": {},
   "source": [
    "# Build the Bovada Scraping Function"
   ]
  },
  {
   "cell_type": "code",
   "execution_count": 4,
   "metadata": {},
   "outputs": [],
   "source": [
    "#in this function, we pass in a url that we wills scrape and a csv file that will be used to store/retrieve data\n",
    "def bovada_scrape(url, file):\n",
    "    #initiate selenium, you'll need to point to a local chromedriver you've downloaded\n",
    "    browser = webdriver.Chrome('/Users/aaronsmith/chromedriver', options=options)\n",
    "    browser.get(url)\n",
    "    browser.implicitly_wait(5)\n",
    "\n",
    "    #here we are retrieving elements from the page based on their class name\n",
    "    title = browser.find_elements_by_class_name('market-header')\n",
    "    heading = browser.find_elements_by_class_name('game-heading')\n",
    "    sub_title = browser.find_elements_by_class_name('market-name')\n",
    "    outcomes = browser.find_elements_by_class_name('outcomes')\n",
    "    bet_price = browser.find_elements_by_class_name('bet-price')\n",
    "    #storing current timestamp so we can see data over time\n",
    "    now = datetime.datetime.now()\n",
    "\n",
    "    #checking to see if there is an input file. There should be, unless this is the first time checking this url\n",
    "    try:\n",
    "        in_df = pd.read_csv(file)\n",
    "    except Exception:\n",
    "        try:\n",
    "            del in_df\n",
    "        except Exception:\n",
    "            pass\n",
    "\n",
    "    #initiating lists for the data we want...outcome, bet_price and title\n",
    "    o = []\n",
    "    b = []\n",
    "    t = []\n",
    "\n",
    "    #for all the objects returned by selenium, will add them to lists\n",
    "    for i in range(len(outcomes)):\n",
    "        o.append(outcomes[i].text)\n",
    "        b.append(bet_price[i].text)\n",
    "        t.append(title[0].text)\n",
    "    #create a dataframe from the lists\n",
    "    df = pd.DataFrame({'outcomes':o,'bet_price':b, 'title':t})\n",
    "    #add a field for the current timestamp\n",
    "    df['date'] = now\n",
    "    #replace \"EVEN\" with zero and store data as a float\n",
    "    df['bet_price']=df['bet_price'].replace('EVEN', '0')\n",
    "    df.bet_price = df.bet_price.astype(float)\n",
    "\n",
    "    #append this dataframe we created with our historical data\n",
    "    try:\n",
    "        df = in_df.append(df)\n",
    "    except Exception:\n",
    "        pass\n",
    "\n",
    "    #save off the file, overwriting the existing\n",
    "    df.to_csv(file, index = None)\n",
    "    df = pd.read_csv(file)\n",
    "\n",
    "    #close the browser\n",
    "    browser.close()\n",
    "\n",
    "    #return the dataframe so it can be used for visualization and data analysis\n",
    "    return df"
   ]
  },
  {
   "cell_type": "markdown",
   "metadata": {},
   "source": [
    "# Now we need to provide a bovada url and a filename to return the data"
   ]
  },
  {
   "cell_type": "code",
   "execution_count": 6,
   "metadata": {},
   "outputs": [
    {
     "data": {
      "text/html": [
       "<div>\n",
       "<style scoped>\n",
       "    .dataframe tbody tr th:only-of-type {\n",
       "        vertical-align: middle;\n",
       "    }\n",
       "\n",
       "    .dataframe tbody tr th {\n",
       "        vertical-align: top;\n",
       "    }\n",
       "\n",
       "    .dataframe thead th {\n",
       "        text-align: right;\n",
       "    }\n",
       "</style>\n",
       "<table border=\"1\" class=\"dataframe\">\n",
       "  <thead>\n",
       "    <tr style=\"text-align: right;\">\n",
       "      <th></th>\n",
       "      <th>outcomes</th>\n",
       "      <th>bet_price</th>\n",
       "      <th>title</th>\n",
       "      <th>date</th>\n",
       "    </tr>\n",
       "  </thead>\n",
       "  <tbody>\n",
       "    <tr>\n",
       "      <th>0</th>\n",
       "      <td>Houston Astros</td>\n",
       "      <td>225.0</td>\n",
       "      <td>2019 World Series - Odds To Win</td>\n",
       "      <td>2019-08-08 09:51:22.544719</td>\n",
       "    </tr>\n",
       "    <tr>\n",
       "      <th>1</th>\n",
       "      <td>Los Angeles Dodgers</td>\n",
       "      <td>275.0</td>\n",
       "      <td>2019 World Series - Odds To Win</td>\n",
       "      <td>2019-08-08 09:51:22.544719</td>\n",
       "    </tr>\n",
       "    <tr>\n",
       "      <th>2</th>\n",
       "      <td>New York Yankees</td>\n",
       "      <td>425.0</td>\n",
       "      <td>2019 World Series - Odds To Win</td>\n",
       "      <td>2019-08-08 09:51:22.544719</td>\n",
       "    </tr>\n",
       "    <tr>\n",
       "      <th>3</th>\n",
       "      <td>Atlanta Braves</td>\n",
       "      <td>850.0</td>\n",
       "      <td>2019 World Series - Odds To Win</td>\n",
       "      <td>2019-08-08 09:51:22.544719</td>\n",
       "    </tr>\n",
       "    <tr>\n",
       "      <th>4</th>\n",
       "      <td>Minnesota Twins</td>\n",
       "      <td>1500.0</td>\n",
       "      <td>2019 World Series - Odds To Win</td>\n",
       "      <td>2019-08-08 09:51:22.544719</td>\n",
       "    </tr>\n",
       "  </tbody>\n",
       "</table>\n",
       "</div>"
      ],
      "text/plain": [
       "              outcomes  bet_price                            title  \\\n",
       "0       Houston Astros      225.0  2019 World Series - Odds To Win   \n",
       "1  Los Angeles Dodgers      275.0  2019 World Series - Odds To Win   \n",
       "2     New York Yankees      425.0  2019 World Series - Odds To Win   \n",
       "3       Atlanta Braves      850.0  2019 World Series - Odds To Win   \n",
       "4      Minnesota Twins     1500.0  2019 World Series - Odds To Win   \n",
       "\n",
       "                         date  \n",
       "0  2019-08-08 09:51:22.544719  \n",
       "1  2019-08-08 09:51:22.544719  \n",
       "2  2019-08-08 09:51:22.544719  \n",
       "3  2019-08-08 09:51:22.544719  \n",
       "4  2019-08-08 09:51:22.544719  "
      ]
     },
     "execution_count": 6,
     "metadata": {},
     "output_type": "execute_result"
    }
   ],
   "source": [
    "url = \"https://www.bovada.lv/sports/baseball/mlb/2019-world-series-odds-to-win-201910240000\"\n",
    "file = \"mlb_new.csv\"\n",
    "#return the response to a dataframe so that it can be used\n",
    "df_mlb = bovada_scrape(url, file)\n",
    "df_mlb.head(5)"
   ]
  },
  {
   "cell_type": "code",
   "execution_count": null,
   "metadata": {},
   "outputs": [],
   "source": []
  }
 ],
 "metadata": {
  "kernelspec": {
   "display_name": "Python 3",
   "language": "python",
   "name": "python3"
  },
  "language_info": {
   "codemirror_mode": {
    "name": "ipython",
    "version": 3
   },
   "file_extension": ".py",
   "mimetype": "text/x-python",
   "name": "python",
   "nbconvert_exporter": "python",
   "pygments_lexer": "ipython3",
   "version": "3.7.1"
  }
 },
 "nbformat": 4,
 "nbformat_minor": 2
}
